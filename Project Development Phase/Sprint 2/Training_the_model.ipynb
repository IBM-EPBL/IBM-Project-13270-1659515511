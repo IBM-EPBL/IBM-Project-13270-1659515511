{
  "cells": [
    {
      "cell_type": "markdown",
      "metadata": {
        "id": "tQWrapk9aJVU"
      },
      "source": [
        "#Importing Keras libraries\n"
      ]
    },
    {
      "cell_type": "code",
      "execution_count": null,
      "metadata": {
        "id": "Cs5f7wGFaLJC"
      },
      "outputs": [],
      "source": [
        "import keras\n"
      ]
    },
    {
      "cell_type": "markdown",
      "metadata": {
        "id": "YEptecL3aM8R"
      },
      "source": [
        "#Importing Keras libraries\n"
      ]
    },
    {
      "cell_type": "code",
      "execution_count": null,
      "metadata": {
        "colab": {
          "base_uri": "https://localhost:8080/"
        },
        "id": "glz3dp43aP0l",
        "outputId": "635e0c35-7db5-4de2-df58-cec7f55defa3"
      },
      "outputs": [
        {
          "name": "stdout",
          "output_type": "stream",
          "text": [
            "Looking in indexes: https://pypi.org/simple, https://us-python.pkg.dev/colab-wheels/public/simple/\n",
            "Collecting twilio\n",
            "  Downloading twilio-7.15.3-py2.py3-none-any.whl (1.4 MB)\n",
            "\u001b[K     |████████████████████████████████| 1.4 MB 7.1 MB/s \n",
            "\u001b[?25hCollecting PyJWT<3.0.0,>=2.0.0\n",
            "  Downloading PyJWT-2.6.0-py3-none-any.whl (20 kB)\n",
            "Requirement already satisfied: requests>=2.0.0 in /usr/local/lib/python3.7/dist-packages (from twilio) (2.23.0)\n",
            "Requirement already satisfied: pytz in /usr/local/lib/python3.7/dist-packages (from twilio) (2022.6)\n",
            "Requirement already satisfied: urllib3!=1.25.0,!=1.25.1,<1.26,>=1.21.1 in /usr/local/lib/python3.7/dist-packages (from requests>=2.0.0->twilio) (1.24.3)\n",
            "Requirement already satisfied: chardet<4,>=3.0.2 in /usr/local/lib/python3.7/dist-packages (from requests>=2.0.0->twilio) (3.0.4)\n",
            "Requirement already satisfied: certifi>=2017.4.17 in /usr/local/lib/python3.7/dist-packages (from requests>=2.0.0->twilio) (2022.9.24)\n",
            "Requirement already satisfied: idna<3,>=2.5 in /usr/local/lib/python3.7/dist-packages (from requests>=2.0.0->twilio) (2.10)\n",
            "Installing collected packages: PyJWT, twilio\n",
            "Successfully installed PyJWT-2.6.0 twilio-7.15.3\n"
          ]
        }
      ],
      "source": [
        "pip install twilio"
      ]
    },
    {
      "cell_type": "markdown",
      "metadata": {
        "id": "5fpON9J5aTeF"
      },
      "source": [
        "#Importing ImageDataGenerator from Keras\n"
      ]
    },
    {
      "cell_type": "code",
      "execution_count": null,
      "metadata": {
        "id": "3G8gasv-aUr1"
      },
      "outputs": [],
      "source": [
        "from matplotlib import pyplot as plt\n",
        "from keras.preprocessing.image import ImageDataGenerator"
      ]
    },
    {
      "cell_type": "markdown",
      "metadata": {
        "id": "Yf6APUdBaYFF"
      },
      "source": [
        "#Applying ImageDataGenerator functionality to train dataset\n"
      ]
    },
    {
      "cell_type": "code",
      "execution_count": null,
      "metadata": {
        "colab": {
          "base_uri": "https://localhost:8080/"
        },
        "id": "XC6Ew1HfaZfG",
        "outputId": "425cb188-e5a9-4044-c5f7-5862a2d62cba"
      },
      "outputs": [
        {
          "name": "stdout",
          "output_type": "stream",
          "text": [
            "Mounted at /content/drive\n"
          ]
        }
      ],
      "source": [
        "from google.colab import drive\n",
        "drive.mount('/content/drive')"
      ]
    },
    {
      "cell_type": "code",
      "execution_count": null,
      "metadata": {
        "id": "mPandjLNbG4r"
      },
      "outputs": [],
      "source": [
        "from keras.preprocessing.image import ImageDataGenerator"
      ]
    },
    {
      "cell_type": "code",
      "execution_count": null,
      "metadata": {
        "id": "XId6F-mNbNEp"
      },
      "outputs": [],
      "source": [
        "trai_datagen=ImageDataGenerator(rescale=1./255,\n",
        "                                shear_range=0.2,\n",
        "                                rotation_range=180,\n",
        "                                zoom_range=0.2,\n",
        "                                horizontal_flip=True)\n",
        "\n",
        "test_datagen=ImageDataGenerator(rescale=1./255)"
      ]
    },
    {
      "cell_type": "code",
      "execution_count": null,
      "metadata": {
        "id": "GiZM75ZNbQSx"
      },
      "outputs": [],
      "source": [
        "train_datagen = ImageDataGenerator(rescale=1./255,\n",
        "    shear_range=0.2,\n",
        "    zoom_range=0.2,\n",
        "    horizontal_flip=True)"
      ]
    },
    {
      "cell_type": "code",
      "execution_count": null,
      "metadata": {
        "colab": {
          "base_uri": "https://localhost:8080/"
        },
        "id": "lTKfH0BgaieR",
        "outputId": "8cde400d-9ec3-42ac-8a87-f04e16cec6c8"
      },
      "outputs": [
        {
          "name": "stdout",
          "output_type": "stream",
          "text": [
            "Found 436 images belonging to 2 classes.\n"
          ]
        }
      ],
      "source": [
        "x_train = train_datagen.flow_from_directory(r'/content/drive/MyDrive/project/Dataset/train_set',\n",
        "                                           target_size = (128,128),\n",
        "                                           batch_size = 32,\n",
        "                                           class_mode = 'binary')"
      ]
    },
    {
      "cell_type": "markdown",
      "metadata": {
        "id": "anaCktXXbWSK"
      },
      "source": [
        "#Applying ImageDataGenerator functionality to test dataset\n"
      ]
    },
    {
      "cell_type": "code",
      "execution_count": null,
      "metadata": {
        "colab": {
          "base_uri": "https://localhost:8080/"
        },
        "id": "g49Oex3vbXWx",
        "outputId": "5dea8f68-3b76-48c8-cff4-16fde69df837"
      },
      "outputs": [
        {
          "name": "stdout",
          "output_type": "stream",
          "text": [
            "Found 121 images belonging to 2 classes.\n"
          ]
        }
      ],
      "source": [
        "x_test = test_datagen.flow_from_directory(r'/content/drive/MyDrive/project/Dataset/test_set',\n",
        "                                           target_size = (128,128),\n",
        "                                           batch_size = 32,\n",
        "                                           class_mode = 'binary')"
      ]
    },
    {
      "cell_type": "markdown",
      "metadata": {
        "id": "8V4yFIGDbiex"
      },
      "source": [
        "#Importing Model Building Libraries\n"
      ]
    },
    {
      "cell_type": "code",
      "execution_count": null,
      "metadata": {
        "id": "33Mgs5V5bjxJ"
      },
      "outputs": [],
      "source": [
        "#to define the linear Initialisation import sequential\n",
        "from keras.models import Sequential\n",
        "#to add layers import Dense\n",
        "from keras.layers import Dense\n",
        "#to create Convolutional kernel import convolution2D\n",
        "from keras.layers import Convolution2D\n",
        "#import Maxpooling layer \n",
        "from keras.layers import MaxPooling2D\n",
        "#import flatten layer\n",
        "from keras.layers import Flatten\n",
        "import warnings\n",
        "warnings.filterwarnings('ignore')"
      ]
    },
    {
      "cell_type": "markdown",
      "metadata": {
        "id": "cLzhsNGMboIy"
      },
      "source": [
        "#Initializing the model\n"
      ]
    },
    {
      "cell_type": "code",
      "execution_count": null,
      "metadata": {
        "id": "pxdvwa0EbpGS"
      },
      "outputs": [],
      "source": [
        "model = Sequential()"
      ]
    },
    {
      "cell_type": "markdown",
      "metadata": {
        "id": "h8lrT2ppbuNE"
      },
      "source": [
        "#Adding CNN Layers"
      ]
    },
    {
      "cell_type": "code",
      "execution_count": null,
      "metadata": {
        "id": "TWwW3zeqbvoi"
      },
      "outputs": [],
      "source": [
        "model.add(Convolution2D(32,(3,3),input_shape=(64,64,3),activation='relu'))\n",
        "#add maxpooling layers\n",
        "model.add(MaxPooling2D(pool_size=(2,2)))\n",
        "#add faltten layer\n",
        "model.add(Flatten())"
      ]
    },
    {
      "cell_type": "markdown",
      "metadata": {
        "id": "0UNag0zGby_p"
      },
      "source": [
        "#Add Dense layers\n"
      ]
    },
    {
      "cell_type": "code",
      "execution_count": null,
      "metadata": {
        "id": "CupU-ohUbz4Z"
      },
      "outputs": [],
      "source": [
        "#add hidden layers\n",
        "model.add(Dense(150,activation='relu'))\n",
        "#add output layer\n",
        "model.add(Dense(1,activation='sigmoid'))"
      ]
    },
    {
      "cell_type": "markdown",
      "metadata": {
        "id": "hoN928-Vb19a"
      },
      "source": [
        "#configuring the learning process\n"
      ]
    },
    {
      "cell_type": "code",
      "execution_count": 20,
      "metadata": {
        "id": "damGvUZ3b5gb"
      },
      "outputs": [],
      "source": [
        "model.compile(loss = 'binary_crossentropy',\n",
        "             optimizer = \"adam\",\n",
        "             metrics = [\"accuracy\"])"
      ]
    },
    {
      "cell_type": "markdown",
      "metadata": {
        "id": "9B_1UuGOb9Ty"
      },
      "source": [
        "#Training the model\n"
      ]
    },
    {
      "cell_type": "code",
      "source": [
        "#To define linear initialisation import sequential\n",
        "from keras.models import Sequential\n",
        "\n",
        "#To add layers import Dense\n",
        "from keras.layers import Dense\n",
        "\n",
        "#To create Convolution kernel import Convolution2D\n",
        "from keras.layers import Convolution2D\n",
        "\n",
        "#import Maxpooling layer\n",
        "import keras\n",
        "from keras.layers import MaxPooling2D\n",
        "\n",
        "#import Flatten layer\n",
        "from keras.layers import Flatten\n",
        "import warnings\n",
        "warnings.filterwarnings('ignore')\n",
        "\n",
        "import tensorflow as tf\n",
        "from tensorflow import keras\n",
        "from tensorflow.keras.models import Sequential\n",
        "\n",
        "#intializing the model\n",
        "model =Sequential()\n",
        "\n",
        "#add convolutional layer\n",
        "model.add(Convolution2D(32, (3, 3),input_shape = (128, 128, 3), activation = 'relu'))\n",
        "\n",
        "#add maxpooling layer\n",
        "model.add(MaxPooling2D(pool_size=(2,2)))\n",
        "\n",
        "#add flatten layer\n",
        "model.add(Flatten())\n",
        "\n",
        "#add hidden layer\n",
        "model.add(Dense(512, activation='relu'))\n",
        "\n",
        "from keras.layers import Dense\n",
        "model.add(Dense(units=32,activation='relu'))\n",
        "\n",
        "#add output layer\n",
        "model.add(Dense(units=1,activation='sigmoid'))\n",
        "\n",
        "#configure the learning process\n",
        "model.compile(loss = 'binary_crossentropy',\n",
        "             optimizer = \"adam\",\n",
        "             metrics = [\"accuracy\"])"
      ],
      "metadata": {
        "id": "FoSpj69usNTX"
      },
      "execution_count": 26,
      "outputs": []
    },
    {
      "cell_type": "code",
      "execution_count": 27,
      "metadata": {
        "colab": {
          "base_uri": "https://localhost:8080/"
        },
        "id": "wwju59FKb-K6",
        "outputId": "9aa58ab6-9f83-40b5-cfd7-a50ded731cb4"
      },
      "outputs": [
        {
          "output_type": "stream",
          "name": "stdout",
          "text": [
            "Epoch 1/10\n",
            "14/14 [==============================] - 109s 8s/step - loss: 4.5706 - accuracy: 0.6353 - val_loss: 0.1744 - val_accuracy: 0.9256\n",
            "Epoch 2/10\n",
            "14/14 [==============================] - 34s 2s/step - loss: 0.4415 - accuracy: 0.8463 - val_loss: 0.1317 - val_accuracy: 0.9587\n",
            "Epoch 3/10\n",
            "14/14 [==============================] - 33s 2s/step - loss: 0.2483 - accuracy: 0.9083 - val_loss: 0.1028 - val_accuracy: 0.9669\n",
            "Epoch 4/10\n",
            "14/14 [==============================] - 36s 3s/step - loss: 0.2380 - accuracy: 0.8968 - val_loss: 0.0474 - val_accuracy: 0.9835\n",
            "Epoch 5/10\n",
            "14/14 [==============================] - 33s 2s/step - loss: 0.2652 - accuracy: 0.8876 - val_loss: 0.1011 - val_accuracy: 0.9421\n",
            "Epoch 6/10\n",
            "14/14 [==============================] - 33s 2s/step - loss: 0.2464 - accuracy: 0.8922 - val_loss: 0.0926 - val_accuracy: 0.9504\n",
            "Epoch 7/10\n",
            "14/14 [==============================] - 35s 3s/step - loss: 0.1514 - accuracy: 0.9312 - val_loss: 0.0315 - val_accuracy: 0.9917\n",
            "Epoch 8/10\n",
            "14/14 [==============================] - 33s 2s/step - loss: 0.1331 - accuracy: 0.9541 - val_loss: 0.0317 - val_accuracy: 0.9917\n",
            "Epoch 9/10\n",
            "14/14 [==============================] - 35s 2s/step - loss: 0.1125 - accuracy: 0.9495 - val_loss: 0.0272 - val_accuracy: 0.9917\n",
            "Epoch 10/10\n",
            "14/14 [==============================] - 35s 2s/step - loss: 0.1115 - accuracy: 0.9450 - val_loss: 0.0266 - val_accuracy: 0.9917\n"
          ]
        },
        {
          "output_type": "execute_result",
          "data": {
            "text/plain": [
              "<keras.callbacks.History at 0x7f1f9dfd5790>"
            ]
          },
          "metadata": {},
          "execution_count": 27
        }
      ],
      "source": [
        "model.fit_generator(x_train,steps_per_epoch=14,\n",
        "                   epochs=10,validation_data=x_test,\n",
        "                   validation_steps=4)"
      ]
    },
    {
      "cell_type": "markdown",
      "metadata": {
        "id": "IeOUMMaccCAC"
      },
      "source": [
        "#Save the model\n"
      ]
    },
    {
      "cell_type": "code",
      "execution_count": 28,
      "metadata": {
        "id": "W29LxMIucDNJ"
      },
      "outputs": [],
      "source": [
        "model.save('/content/drive/MyDrive/project/Dataset/forest1.h5')"
      ]
    }
  ],
  "metadata": {
    "colab": {
      "provenance": []
    },
    "kernelspec": {
      "display_name": "Python 3",
      "name": "python3"
    },
    "language_info": {
      "name": "python"
    }
  },
  "nbformat": 4,
  "nbformat_minor": 0
}